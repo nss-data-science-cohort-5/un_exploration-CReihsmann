{
 "cells": [
  {
   "cell_type": "code",
   "execution_count": 1,
   "id": "0ca73aeb",
   "metadata": {},
   "outputs": [],
   "source": [
    "import pandas as pd\n",
    "import numpy as np\n",
    "import matplotlib.pyplot as plt\n",
    "import seaborn as sns\n",
    "%matplotlib inline\n",
    "import plotly\n"
   ]
  },
  {
   "cell_type": "code",
   "execution_count": 2,
   "id": "4eb2285e",
   "metadata": {},
   "outputs": [
    {
     "data": {
      "text/html": [
       "<div>\n",
       "<style scoped>\n",
       "    .dataframe tbody tr th:only-of-type {\n",
       "        vertical-align: middle;\n",
       "    }\n",
       "\n",
       "    .dataframe tbody tr th {\n",
       "        vertical-align: top;\n",
       "    }\n",
       "\n",
       "    .dataframe thead th {\n",
       "        text-align: right;\n",
       "    }\n",
       "</style>\n",
       "<table border=\"1\" class=\"dataframe\">\n",
       "  <thead>\n",
       "    <tr style=\"text-align: right;\">\n",
       "      <th></th>\n",
       "      <th>Country</th>\n",
       "      <th>Year</th>\n",
       "      <th>Elec Quantity(KWh/mil)</th>\n",
       "    </tr>\n",
       "  </thead>\n",
       "  <tbody>\n",
       "    <tr>\n",
       "      <th>0</th>\n",
       "      <td>Afghanistan</td>\n",
       "      <td>2019</td>\n",
       "      <td>3020.0</td>\n",
       "    </tr>\n",
       "    <tr>\n",
       "      <th>1</th>\n",
       "      <td>Afghanistan</td>\n",
       "      <td>2018</td>\n",
       "      <td>2952.0</td>\n",
       "    </tr>\n",
       "    <tr>\n",
       "      <th>2</th>\n",
       "      <td>Afghanistan</td>\n",
       "      <td>2017</td>\n",
       "      <td>2811.8</td>\n",
       "    </tr>\n",
       "    <tr>\n",
       "      <th>3</th>\n",
       "      <td>Afghanistan</td>\n",
       "      <td>2016</td>\n",
       "      <td>2729.9</td>\n",
       "    </tr>\n",
       "    <tr>\n",
       "      <th>4</th>\n",
       "      <td>Afghanistan</td>\n",
       "      <td>2015</td>\n",
       "      <td>2220.2</td>\n",
       "    </tr>\n",
       "    <tr>\n",
       "      <th>...</th>\n",
       "      <td>...</td>\n",
       "      <td>...</td>\n",
       "      <td>...</td>\n",
       "    </tr>\n",
       "    <tr>\n",
       "      <th>6305</th>\n",
       "      <td>Zimbabwe</td>\n",
       "      <td>1994</td>\n",
       "      <td>1608.0</td>\n",
       "    </tr>\n",
       "    <tr>\n",
       "      <th>6306</th>\n",
       "      <td>Zimbabwe</td>\n",
       "      <td>1993</td>\n",
       "      <td>1566.0</td>\n",
       "    </tr>\n",
       "    <tr>\n",
       "      <th>6307</th>\n",
       "      <td>Zimbabwe</td>\n",
       "      <td>1992</td>\n",
       "      <td>1572.0</td>\n",
       "    </tr>\n",
       "    <tr>\n",
       "      <th>6308</th>\n",
       "      <td>Zimbabwe</td>\n",
       "      <td>1991</td>\n",
       "      <td>1549.0</td>\n",
       "    </tr>\n",
       "    <tr>\n",
       "      <th>6309</th>\n",
       "      <td>Zimbabwe</td>\n",
       "      <td>1990</td>\n",
       "      <td>1528.0</td>\n",
       "    </tr>\n",
       "  </tbody>\n",
       "</table>\n",
       "<p>6310 rows × 3 columns</p>\n",
       "</div>"
      ],
      "text/plain": [
       "          Country  Year  Elec Quantity(KWh/mil)\n",
       "0     Afghanistan  2019                  3020.0\n",
       "1     Afghanistan  2018                  2952.0\n",
       "2     Afghanistan  2017                  2811.8\n",
       "3     Afghanistan  2016                  2729.9\n",
       "4     Afghanistan  2015                  2220.2\n",
       "...           ...   ...                     ...\n",
       "6305     Zimbabwe  1994                  1608.0\n",
       "6306     Zimbabwe  1993                  1566.0\n",
       "6307     Zimbabwe  1992                  1572.0\n",
       "6308     Zimbabwe  1991                  1549.0\n",
       "6309     Zimbabwe  1990                  1528.0\n",
       "\n",
       "[6310 rows x 3 columns]"
      ]
     },
     "execution_count": 2,
     "metadata": {},
     "output_type": "execute_result"
    }
   ],
   "source": [
    "elec_use = pd.read_csv(\"../../data/UNdata_Export_house_elec_use.csv\", skipfooter=3, engine='python')\n",
    "gdp_and_internet_use = pd.read_csv(\"../../data/gdp_and_internet_use.csv\", engine='python')\n",
    "gdp_df = pd.read_csv(\"../../data/UNdata_Export_GDP.csv\", skipfooter=3, engine='python')\n",
    "\n",
    "gdp_df = gdp_df.drop(columns='Value Footnotes')\n",
    "gdp_df.columns=['Country', 'Year', 'GDP_Per_Capita']\n",
    "\n",
    "\n",
    "elec_use = elec_use.drop(columns=([\"Commodity - Transaction\", \"Unit\", \"Quantity Footnotes\"]))\n",
    "elec_use.columns=['Country', 'Year', 'Elec Quantity(KWh/mil)']\n",
    "\n",
    "replace_country_labels = ({\"Brunei Darussalam\": \"Brunei\", \n",
    "                           \"Central African Rep.\":\"Central African Republic\", \n",
    "                           \"Congo (Democratic Republic of the)\":\"Dem. Rep. Congo\", \n",
    "                           \"Dominican Rep.\":\"Dominican Republic\", \n",
    "                           \"Hong Kong, China\":\"Hong Kong SAR, China\", \n",
    "                           \"Iran (Islamic Rep. of)\":\"Iran\", \n",
    "                           \"Korea (Rep. of)\":\"Korea\", \n",
    "                           \"Kyrgyzstan\":\"Kyrgyz Republic\", \n",
    "                           \"Lao P.D.R.\":\"Lao PDR\", \n",
    "                           \"Macao, China\":\"Macao SAR, China\", \n",
    "                           \"Micronesia (Fed. States of)\":\"Micronesia\", \n",
    "                           \"Viet Nam\":\"Vietnam\"})\n",
    "elec_use = elec_use.replace({\"Country\": replace_country_labels})\n",
    "\n",
    "elec_use\n"
   ]
  },
  {
   "cell_type": "code",
   "execution_count": 3,
   "id": "3cfe2e5a",
   "metadata": {},
   "outputs": [
    {
     "data": {
      "text/html": [
       "<div>\n",
       "<style scoped>\n",
       "    .dataframe tbody tr th:only-of-type {\n",
       "        vertical-align: middle;\n",
       "    }\n",
       "\n",
       "    .dataframe tbody tr th {\n",
       "        vertical-align: top;\n",
       "    }\n",
       "\n",
       "    .dataframe thead th {\n",
       "        text-align: right;\n",
       "    }\n",
       "</style>\n",
       "<table border=\"1\" class=\"dataframe\">\n",
       "  <thead>\n",
       "    <tr style=\"text-align: right;\">\n",
       "      <th></th>\n",
       "      <th>Unnamed: 0</th>\n",
       "      <th>Country</th>\n",
       "      <th>Year</th>\n",
       "      <th>GDP_Per_Capita</th>\n",
       "      <th>Continent</th>\n",
       "      <th>Internet_Users_Pct</th>\n",
       "      <th>Elec Quantity(KWh/mil)</th>\n",
       "    </tr>\n",
       "  </thead>\n",
       "  <tbody>\n",
       "    <tr>\n",
       "      <th>0</th>\n",
       "      <td>0</td>\n",
       "      <td>Afghanistan</td>\n",
       "      <td>2014</td>\n",
       "      <td>2102.385234</td>\n",
       "      <td>Asia</td>\n",
       "      <td>6.390000</td>\n",
       "      <td>2204.9</td>\n",
       "    </tr>\n",
       "    <tr>\n",
       "      <th>1</th>\n",
       "      <td>1</td>\n",
       "      <td>Afghanistan</td>\n",
       "      <td>2013</td>\n",
       "      <td>2116.465454</td>\n",
       "      <td>Asia</td>\n",
       "      <td>5.900000</td>\n",
       "      <td>1933.7</td>\n",
       "    </tr>\n",
       "    <tr>\n",
       "      <th>2</th>\n",
       "      <td>2</td>\n",
       "      <td>Afghanistan</td>\n",
       "      <td>2012</td>\n",
       "      <td>2075.491747</td>\n",
       "      <td>Asia</td>\n",
       "      <td>5.454545</td>\n",
       "      <td>1922.0</td>\n",
       "    </tr>\n",
       "    <tr>\n",
       "      <th>3</th>\n",
       "      <td>3</td>\n",
       "      <td>Afghanistan</td>\n",
       "      <td>2011</td>\n",
       "      <td>1904.559799</td>\n",
       "      <td>Asia</td>\n",
       "      <td>5.000000</td>\n",
       "      <td>1620.0</td>\n",
       "    </tr>\n",
       "    <tr>\n",
       "      <th>4</th>\n",
       "      <td>4</td>\n",
       "      <td>Afghanistan</td>\n",
       "      <td>2010</td>\n",
       "      <td>1957.029338</td>\n",
       "      <td>Asia</td>\n",
       "      <td>4.000000</td>\n",
       "      <td>1387.0</td>\n",
       "    </tr>\n",
       "    <tr>\n",
       "      <th>...</th>\n",
       "      <td>...</td>\n",
       "      <td>...</td>\n",
       "      <td>...</td>\n",
       "      <td>...</td>\n",
       "      <td>...</td>\n",
       "      <td>...</td>\n",
       "      <td>...</td>\n",
       "    </tr>\n",
       "    <tr>\n",
       "      <th>3337</th>\n",
       "      <td>3705</td>\n",
       "      <td>Zimbabwe</td>\n",
       "      <td>1997</td>\n",
       "      <td>3580.048793</td>\n",
       "      <td>Africa</td>\n",
       "      <td>0.033080</td>\n",
       "      <td>1991.0</td>\n",
       "    </tr>\n",
       "    <tr>\n",
       "      <th>3338</th>\n",
       "      <td>3706</td>\n",
       "      <td>Zimbabwe</td>\n",
       "      <td>1996</td>\n",
       "      <td>3520.430146</td>\n",
       "      <td>Africa</td>\n",
       "      <td>0.016790</td>\n",
       "      <td>1831.0</td>\n",
       "    </tr>\n",
       "    <tr>\n",
       "      <th>3339</th>\n",
       "      <td>3707</td>\n",
       "      <td>Zimbabwe</td>\n",
       "      <td>1995</td>\n",
       "      <td>3226.413930</td>\n",
       "      <td>Africa</td>\n",
       "      <td>0.007684</td>\n",
       "      <td>1672.0</td>\n",
       "    </tr>\n",
       "    <tr>\n",
       "      <th>3340</th>\n",
       "      <td>3708</td>\n",
       "      <td>Zimbabwe</td>\n",
       "      <td>1994</td>\n",
       "      <td>3263.934978</td>\n",
       "      <td>Africa</td>\n",
       "      <td>0.001739</td>\n",
       "      <td>1608.0</td>\n",
       "    </tr>\n",
       "    <tr>\n",
       "      <th>3341</th>\n",
       "      <td>3709</td>\n",
       "      <td>Zimbabwe</td>\n",
       "      <td>1990</td>\n",
       "      <td>3324.348171</td>\n",
       "      <td>Africa</td>\n",
       "      <td>0.000000</td>\n",
       "      <td>1528.0</td>\n",
       "    </tr>\n",
       "  </tbody>\n",
       "</table>\n",
       "<p>3342 rows × 7 columns</p>\n",
       "</div>"
      ],
      "text/plain": [
       "      Unnamed: 0      Country  Year  GDP_Per_Capita Continent  \\\n",
       "0              0  Afghanistan  2014     2102.385234      Asia   \n",
       "1              1  Afghanistan  2013     2116.465454      Asia   \n",
       "2              2  Afghanistan  2012     2075.491747      Asia   \n",
       "3              3  Afghanistan  2011     1904.559799      Asia   \n",
       "4              4  Afghanistan  2010     1957.029338      Asia   \n",
       "...          ...          ...   ...             ...       ...   \n",
       "3337        3705     Zimbabwe  1997     3580.048793    Africa   \n",
       "3338        3706     Zimbabwe  1996     3520.430146    Africa   \n",
       "3339        3707     Zimbabwe  1995     3226.413930    Africa   \n",
       "3340        3708     Zimbabwe  1994     3263.934978    Africa   \n",
       "3341        3709     Zimbabwe  1990     3324.348171    Africa   \n",
       "\n",
       "      Internet_Users_Pct  Elec Quantity(KWh/mil)  \n",
       "0               6.390000                  2204.9  \n",
       "1               5.900000                  1933.7  \n",
       "2               5.454545                  1922.0  \n",
       "3               5.000000                  1620.0  \n",
       "4               4.000000                  1387.0  \n",
       "...                  ...                     ...  \n",
       "3337            0.033080                  1991.0  \n",
       "3338            0.016790                  1831.0  \n",
       "3339            0.007684                  1672.0  \n",
       "3340            0.001739                  1608.0  \n",
       "3341            0.000000                  1528.0  \n",
       "\n",
       "[3342 rows x 7 columns]"
      ]
     },
     "execution_count": 3,
     "metadata": {},
     "output_type": "execute_result"
    }
   ],
   "source": [
    "gdp_internet_elec = pd.merge(gdp_and_internet_use, elec_use, on=[\"Country\", \"Year\"])\n",
    "gdp_elec = pd.merge(gdp_df, elec_use, on=[\"Country\", \"Year\"])\n",
    "\n",
    "#gdp_internet_elec = gdp_and_internet_use.drop(columns=\"Unnamed: 0\")\n",
    "gdp_internet_elec"
   ]
  },
  {
   "cell_type": "code",
   "execution_count": 4,
   "id": "834e7eea",
   "metadata": {},
   "outputs": [
    {
     "data": {
      "text/plain": [
       "<AxesSubplot:xlabel='Year'>"
      ]
     },
     "execution_count": 4,
     "metadata": {},
     "output_type": "execute_result"
    },
    {
     "data": {
      "image/png": "[encoded data removed]",
      "text/plain": [
       "<Figure size 432x288 with 1 Axes>"
      ]
     },
     "metadata": {
      "needs_background": "light"
     },
     "output_type": "display_data"
    },
    {
     "data": {
      "image/png": "[encoded data removed]",
      "text/plain": [
       "<Figure size 432x288 with 1 Axes>"
      ]
     },
     "metadata": {
      "needs_background": "light"
     },
     "output_type": "display_data"
    }
   ],
   "source": [
    "elec_use[elec_use[\"Country\"].isin([\"Nigeria\"])].pivot_table(values=\"Elec Quantity(KWh/mil)\",index=[\"Year\"]).plot()\n",
    "gdp_and_internet_use[gdp_and_internet_use[\"Country\"].isin([\"Nigeria\"])].pivot_table(values=\"Internet_Users_Pct\",index=[\"Year\"]).plot()\n"
   ]
  },
  {
   "cell_type": "code",
   "execution_count": 5,
   "id": "112a24a0",
   "metadata": {},
   "outputs": [
    {
     "data": {
      "text/html": [
       "<div>\n",
       "<style scoped>\n",
       "    .dataframe tbody tr th:only-of-type {\n",
       "        vertical-align: middle;\n",
       "    }\n",
       "\n",
       "    .dataframe tbody tr th {\n",
       "        vertical-align: top;\n",
       "    }\n",
       "\n",
       "    .dataframe thead th {\n",
       "        text-align: right;\n",
       "    }\n",
       "</style>\n",
       "<table border=\"1\" class=\"dataframe\">\n",
       "  <thead>\n",
       "    <tr style=\"text-align: right;\">\n",
       "      <th>Year</th>\n",
       "      <th>2000</th>\n",
       "      <th>2014</th>\n",
       "    </tr>\n",
       "    <tr>\n",
       "      <th>Continent</th>\n",
       "      <th></th>\n",
       "      <th></th>\n",
       "    </tr>\n",
       "  </thead>\n",
       "  <tbody>\n",
       "    <tr>\n",
       "      <th>Africa</th>\n",
       "      <td>0.854965</td>\n",
       "      <td>17.065952</td>\n",
       "    </tr>\n",
       "    <tr>\n",
       "      <th>Asia</th>\n",
       "      <td>5.938910</td>\n",
       "      <td>43.259999</td>\n",
       "    </tr>\n",
       "    <tr>\n",
       "      <th>Europe</th>\n",
       "      <td>18.545497</td>\n",
       "      <td>73.277895</td>\n",
       "    </tr>\n",
       "    <tr>\n",
       "      <th>North America</th>\n",
       "      <td>10.896589</td>\n",
       "      <td>53.755909</td>\n",
       "    </tr>\n",
       "    <tr>\n",
       "      <th>Oceania</th>\n",
       "      <td>10.174527</td>\n",
       "      <td>33.540000</td>\n",
       "    </tr>\n",
       "  </tbody>\n",
       "</table>\n",
       "</div>"
      ],
      "text/plain": [
       "Year                2000       2014\n",
       "Continent                          \n",
       "Africa          0.854965  17.065952\n",
       "Asia            5.938910  43.259999\n",
       "Europe         18.545497  73.277895\n",
       "North America  10.896589  53.755909\n",
       "Oceania        10.174527  33.540000"
      ]
     },
     "execution_count": 5,
     "metadata": {},
     "output_type": "execute_result"
    }
   ],
   "source": [
    "internet_pivot = gdp_internet_elec[gdp_internet_elec[\"Year\"].isin([2000, 2014])].pivot_table(values=\"Internet_Users_Pct\", index=\"Continent\", columns='Year')\n",
    "internet_pivot.head()"
   ]
  },
  {
   "cell_type": "code",
   "execution_count": 6,
   "id": "c14a4aa1",
   "metadata": {},
   "outputs": [
    {
     "data": {
      "text/html": [
       "<div>\n",
       "<style scoped>\n",
       "    .dataframe tbody tr th:only-of-type {\n",
       "        vertical-align: middle;\n",
       "    }\n",
       "\n",
       "    .dataframe tbody tr th {\n",
       "        vertical-align: top;\n",
       "    }\n",
       "\n",
       "    .dataframe thead th {\n",
       "        text-align: right;\n",
       "    }\n",
       "</style>\n",
       "<table border=\"1\" class=\"dataframe\">\n",
       "  <thead>\n",
       "    <tr style=\"text-align: right;\">\n",
       "      <th>Year</th>\n",
       "      <th>2000</th>\n",
       "      <th>2014</th>\n",
       "      <th>Percent_Change</th>\n",
       "    </tr>\n",
       "    <tr>\n",
       "      <th>Continent</th>\n",
       "      <th></th>\n",
       "      <th></th>\n",
       "      <th></th>\n",
       "    </tr>\n",
       "  </thead>\n",
       "  <tbody>\n",
       "    <tr>\n",
       "      <th>Africa</th>\n",
       "      <td>0.854965</td>\n",
       "      <td>17.065952</td>\n",
       "      <td>1896.099396</td>\n",
       "    </tr>\n",
       "    <tr>\n",
       "      <th>South America</th>\n",
       "      <td>5.366011</td>\n",
       "      <td>51.231000</td>\n",
       "      <td>854.731524</td>\n",
       "    </tr>\n",
       "    <tr>\n",
       "      <th>Asia</th>\n",
       "      <td>5.938910</td>\n",
       "      <td>43.259999</td>\n",
       "      <td>628.416478</td>\n",
       "    </tr>\n",
       "    <tr>\n",
       "      <th>North America</th>\n",
       "      <td>10.896589</td>\n",
       "      <td>53.755909</td>\n",
       "      <td>393.327846</td>\n",
       "    </tr>\n",
       "    <tr>\n",
       "      <th>Europe</th>\n",
       "      <td>18.545497</td>\n",
       "      <td>73.277895</td>\n",
       "      <td>295.124992</td>\n",
       "    </tr>\n",
       "    <tr>\n",
       "      <th>Oceania</th>\n",
       "      <td>10.174527</td>\n",
       "      <td>33.540000</td>\n",
       "      <td>229.646761</td>\n",
       "    </tr>\n",
       "  </tbody>\n",
       "</table>\n",
       "</div>"
      ],
      "text/plain": [
       "Year                2000       2014  Percent_Change\n",
       "Continent                                          \n",
       "Africa          0.854965  17.065952     1896.099396\n",
       "South America   5.366011  51.231000      854.731524\n",
       "Asia            5.938910  43.259999      628.416478\n",
       "North America  10.896589  53.755909      393.327846\n",
       "Europe         18.545497  73.277895      295.124992\n",
       "Oceania        10.174527  33.540000      229.646761"
      ]
     },
     "execution_count": 6,
     "metadata": {},
     "output_type": "execute_result"
    }
   ],
   "source": [
    "internet_pivot[\"Percent_Change\"] = (internet_pivot[2014] - internet_pivot[2000]) / internet_pivot[2000] * 100\n",
    "internet_pivot.sort_values(\"Percent_Change\", ascending=False)"
   ]
  },
  {
   "cell_type": "code",
   "execution_count": 7,
   "id": "162d7e8c",
   "metadata": {},
   "outputs": [
    {
     "data": {
      "text/plain": [
       "<AxesSubplot:xlabel='Year'>"
      ]
     },
     "execution_count": 7,
     "metadata": {},
     "output_type": "execute_result"
    },
    {
     "data": {
      "image/png": "[encoded data removed]",
      "text/plain": [
       "<Figure size 432x288 with 1 Axes>"
      ]
     },
     "metadata": {
      "needs_background": "light"
     },
     "output_type": "display_data"
    },
    {
     "data": {
      "image/png": "[encoded data removed]",
      "text/plain": [
       "<Figure size 432x288 with 1 Axes>"
      ]
     },
     "metadata": {
      "needs_background": "light"
     },
     "output_type": "display_data"
    }
   ],
   "source": [
    "gdp_internet_elec[gdp_internet_elec[\"Continent\"].isin([\"Europe\"])].pivot_table(values=\"Elec Quantity(KWh/mil)\",index=[\"Year\"]).plot()\n",
    "gdp_internet_elec[gdp_internet_elec[\"Continent\"].isin([\"Europe\"])].pivot_table(values=\"Internet_Users_Pct\",index=[\"Year\"]).plot()\n"
   ]
  },
  {
   "cell_type": "code",
   "execution_count": 8,
   "id": "c931fd59",
   "metadata": {},
   "outputs": [
    {
     "data": {
      "text/html": [
       "<div>\n",
       "<style scoped>\n",
       "    .dataframe tbody tr th:only-of-type {\n",
       "        vertical-align: middle;\n",
       "    }\n",
       "\n",
       "    .dataframe tbody tr th {\n",
       "        vertical-align: top;\n",
       "    }\n",
       "\n",
       "    .dataframe thead th {\n",
       "        text-align: right;\n",
       "    }\n",
       "</style>\n",
       "<table border=\"1\" class=\"dataframe\">\n",
       "  <thead>\n",
       "    <tr style=\"text-align: right;\">\n",
       "      <th></th>\n",
       "      <th>Unnamed: 0</th>\n",
       "      <th>Country</th>\n",
       "      <th>Year</th>\n",
       "      <th>GDP_Per_Capita</th>\n",
       "      <th>Continent</th>\n",
       "      <th>Internet_Users_Pct</th>\n",
       "      <th>Elec Quantity(KWh/mil)</th>\n",
       "    </tr>\n",
       "  </thead>\n",
       "  <tbody>\n",
       "    <tr>\n",
       "      <th>54</th>\n",
       "      <td>54</td>\n",
       "      <td>Algeria</td>\n",
       "      <td>1994</td>\n",
       "      <td>7792.085182</td>\n",
       "      <td>Africa</td>\n",
       "      <td>0.000361</td>\n",
       "      <td>7608.0</td>\n",
       "    </tr>\n",
       "    <tr>\n",
       "      <th>557</th>\n",
       "      <td>581</td>\n",
       "      <td>Burundi</td>\n",
       "      <td>1994</td>\n",
       "      <td>1044.715537</td>\n",
       "      <td>Africa</td>\n",
       "      <td>0.000000</td>\n",
       "      <td>51.0</td>\n",
       "    </tr>\n",
       "    <tr>\n",
       "      <th>957</th>\n",
       "      <td>1027</td>\n",
       "      <td>Egypt</td>\n",
       "      <td>1994</td>\n",
       "      <td>6321.250708</td>\n",
       "      <td>Africa</td>\n",
       "      <td>0.006383</td>\n",
       "      <td>15943.0</td>\n",
       "    </tr>\n",
       "    <tr>\n",
       "      <th>1290</th>\n",
       "      <td>1363</td>\n",
       "      <td>Guinea</td>\n",
       "      <td>1994</td>\n",
       "      <td>1565.294028</td>\n",
       "      <td>Africa</td>\n",
       "      <td>0.000138</td>\n",
       "      <td>100.0</td>\n",
       "    </tr>\n",
       "    <tr>\n",
       "      <th>2714</th>\n",
       "      <td>2980</td>\n",
       "      <td>Sierra Leone</td>\n",
       "      <td>1994</td>\n",
       "      <td>1206.396042</td>\n",
       "      <td>Africa</td>\n",
       "      <td>0.000000</td>\n",
       "      <td>44.0</td>\n",
       "    </tr>\n",
       "    <tr>\n",
       "      <th>2805</th>\n",
       "      <td>3094</td>\n",
       "      <td>South Africa</td>\n",
       "      <td>1994</td>\n",
       "      <td>9453.161454</td>\n",
       "      <td>Africa</td>\n",
       "      <td>0.246906</td>\n",
       "      <td>22115.0</td>\n",
       "    </tr>\n",
       "    <tr>\n",
       "      <th>3003</th>\n",
       "      <td>3350</td>\n",
       "      <td>Togo</td>\n",
       "      <td>1994</td>\n",
       "      <td>1148.260641</td>\n",
       "      <td>Africa</td>\n",
       "      <td>0.000000</td>\n",
       "      <td>130.0</td>\n",
       "    </tr>\n",
       "    <tr>\n",
       "      <th>3055</th>\n",
       "      <td>3417</td>\n",
       "      <td>Tunisia</td>\n",
       "      <td>1994</td>\n",
       "      <td>5896.959347</td>\n",
       "      <td>Africa</td>\n",
       "      <td>0.007380</td>\n",
       "      <td>1622.0</td>\n",
       "    </tr>\n",
       "    <tr>\n",
       "      <th>3318</th>\n",
       "      <td>3686</td>\n",
       "      <td>Zambia</td>\n",
       "      <td>1994</td>\n",
       "      <td>1902.393940</td>\n",
       "      <td>Africa</td>\n",
       "      <td>0.006776</td>\n",
       "      <td>571.0</td>\n",
       "    </tr>\n",
       "    <tr>\n",
       "      <th>3340</th>\n",
       "      <td>3708</td>\n",
       "      <td>Zimbabwe</td>\n",
       "      <td>1994</td>\n",
       "      <td>3263.934978</td>\n",
       "      <td>Africa</td>\n",
       "      <td>0.001739</td>\n",
       "      <td>1608.0</td>\n",
       "    </tr>\n",
       "  </tbody>\n",
       "</table>\n",
       "</div>"
      ],
      "text/plain": [
       "      Unnamed: 0       Country  Year  GDP_Per_Capita Continent  \\\n",
       "54            54       Algeria  1994     7792.085182    Africa   \n",
       "557          581       Burundi  1994     1044.715537    Africa   \n",
       "957         1027         Egypt  1994     6321.250708    Africa   \n",
       "1290        1363        Guinea  1994     1565.294028    Africa   \n",
       "2714        2980  Sierra Leone  1994     1206.396042    Africa   \n",
       "2805        3094  South Africa  1994     9453.161454    Africa   \n",
       "3003        3350          Togo  1994     1148.260641    Africa   \n",
       "3055        3417       Tunisia  1994     5896.959347    Africa   \n",
       "3318        3686        Zambia  1994     1902.393940    Africa   \n",
       "3340        3708      Zimbabwe  1994     3263.934978    Africa   \n",
       "\n",
       "      Internet_Users_Pct  Elec Quantity(KWh/mil)  \n",
       "54              0.000361                  7608.0  \n",
       "557             0.000000                    51.0  \n",
       "957             0.006383                 15943.0  \n",
       "1290            0.000138                   100.0  \n",
       "2714            0.000000                    44.0  \n",
       "2805            0.246906                 22115.0  \n",
       "3003            0.000000                   130.0  \n",
       "3055            0.007380                  1622.0  \n",
       "3318            0.006776                   571.0  \n",
       "3340            0.001739                  1608.0  "
      ]
     },
     "execution_count": 8,
     "metadata": {},
     "output_type": "execute_result"
    }
   ],
   "source": [
    "africa_values = gdp_internet_elec[gdp_internet_elec['Continent'].isin(['Africa'])]\n",
    "africa_values_1993 = africa_values[africa_values[\"Year\"].isin([1993])]\n",
    "africa_values_1993[africa_values_1993[\"Elec Quantity(KWh/mil)\"] > 2500]\n",
    "africa_1994 = africa_values[africa_values['Year'].isin([1994])] \n",
    "africa_1994\n"
   ]
  },
  {
   "cell_type": "code",
   "execution_count": 9,
   "id": "8015dcb1",
   "metadata": {},
   "outputs": [],
   "source": [
    "#pd.DataFrame(elec_use[\"Year\"].value_counts()).sort_values()\n",
    "#elec_use[\"Year\"].value_counts()\n",
    "#elec_use[\"Year\"].plot()"
   ]
  },
  {
   "cell_type": "code",
   "execution_count": 10,
   "id": "6751a9dd",
   "metadata": {},
   "outputs": [
    {
     "data": {
      "text/plain": [
       "['Zimbabwe',\n",
       " 'Tunisia',\n",
       " 'Burundi',\n",
       " 'Zambia',\n",
       " 'Guinea',\n",
       " 'Egypt',\n",
       " 'Sierra Leone',\n",
       " 'Togo',\n",
       " 'Algeria',\n",
       " 'South Africa']"
      ]
     },
     "execution_count": 10,
     "metadata": {},
     "output_type": "execute_result"
    }
   ],
   "source": [
    "africa_subset = africa_1994['Country'].value_counts().index.tolist()\n",
    "africa_subset"
   ]
  },
  {
   "cell_type": "code",
   "execution_count": 11,
   "id": "44691b01",
   "metadata": {},
   "outputs": [],
   "source": [
    "africa_all_subset = gdp_internet_elec[gdp_internet_elec[\"Country\"].isin(africa_subset)]\n",
    "\n",
    "africa_all_subset = africa_all_subset[africa_all_subset['Year'] > 1993]"
   ]
  },
  {
   "cell_type": "code",
   "execution_count": 12,
   "id": "ed9b5127",
   "metadata": {},
   "outputs": [
    {
     "data": {
      "text/plain": [
       "<AxesSubplot:xlabel='Year'>"
      ]
     },
     "execution_count": 12,
     "metadata": {},
     "output_type": "execute_result"
    },
    {
     "data": {
      "image/png": "[encoded data removed]",
      "text/plain": [
       "<Figure size 432x288 with 1 Axes>"
      ]
     },
     "metadata": {
      "needs_background": "light"
     },
     "output_type": "display_data"
    }
   ],
   "source": [
    "africa_all_subset.pivot_table(values=\"Elec Quantity(KWh/mil)\",index=[\"Year\"]).plot()"
   ]
  },
  {
   "cell_type": "code",
   "execution_count": 14,
   "id": "0bb46bc6",
   "metadata": {},
   "outputs": [
    {
     "data": {
      "image/png": "[encoded data removed]",
      "text/plain": [
       "<Figure size 432x288 with 1 Axes>"
      ]
     },
     "metadata": {
      "needs_background": "light"
     },
     "output_type": "display_data"
    },
    {
     "data": {
      "image/png": "[encoded data removed]",
      "text/plain": [
       "<Figure size 432x288 with 1 Axes>"
      ]
     },
     "metadata": {
      "needs_background": "light"
     },
     "output_type": "display_data"
    }
   ],
   "source": [
    "africa_all_subset_int = africa_all_subset.pivot_table(values='Internet_Users_Pct', index='Year').plot()\n",
    "africa_all_subset_elec = africa_all_subset.pivot_table(values='Elec Quantity(KWh/mil)', index='Year').plot()\n",
    "plt.show()"
   ]
  },
  {
   "cell_type": "code",
   "execution_count": 17,
   "id": "02c97841",
   "metadata": {},
   "outputs": [
    {
     "data": {
      "text/plain": [
       "<AxesSubplot:xlabel='Internet_Users_Pct', ylabel='Elec Quantity(KWh/mil)'>"
      ]
     },
     "execution_count": 17,
     "metadata": {},
     "output_type": "execute_result"
    },
    {
     "data": {
      "image/png": "[encoded data removed]",
      "text/plain": [
       "<Figure size 432x288 with 1 Axes>"
      ]
     },
     "metadata": {
      "needs_background": "light"
     },
     "output_type": "display_data"
    }
   ],
   "source": [
    "gdp_internet_elec_2014 = gdp_internet_elec[gdp_internet_elec['Year'].isin([2014])]\n",
    "gdp_internet_elec_2014.plot(\"Internet_Users_Pct\", \"Elec Quantity(KWh/mil)\", kind='scatter')"
   ]
  }
 ],
 "metadata": {
  "kernelspec": {
   "display_name": "Python 3",
   "language": "python",
   "name": "python3"
  },
  "language_info": {
   "codemirror_mode": {
    "name": "ipython",
    "version": 3
   },
   "file_extension": ".py",
   "mimetype": "text/x-python",
   "name": "python",
   "nbconvert_exporter": "python",
   "pygments_lexer": "ipython3",
   "version": "3.8.8"
  }
 },
 "nbformat": 4,
 "nbformat_minor": 5
}
