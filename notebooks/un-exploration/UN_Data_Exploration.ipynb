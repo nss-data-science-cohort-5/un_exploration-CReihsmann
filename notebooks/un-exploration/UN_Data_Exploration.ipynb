{
 "cells": [
  {
   "cell_type": "code",
   "execution_count": 1,
   "id": "0ca73aeb",
   "metadata": {},
   "outputs": [],
   "source": [
    "import pandas as pd\n",
    "import numpy as np##\n",
    "import matplotlib.pyplot as plt\n",
    "import seaborn as sns\n",
    "%matplotlib inline"
   ]
  },
  {
   "cell_type": "markdown",
   "id": "10d1ebb3",
   "metadata": {},
   "source": [
    "#### Import UNdata_Export_GDP.csv"
   ]
  },
  {
   "cell_type": "code",
   "execution_count": 2,
   "id": "4eb2285e",
   "metadata": {},
   "outputs": [
    {
     "name": "stdout",
     "output_type": "stream",
     "text": [
      "   Country or Area  Year        Value  Value Footnotes\n",
      "0      Afghanistan  2019  2065.036398              NaN\n",
      "1      Afghanistan  2018  2033.779002              NaN\n",
      "2      Afghanistan  2017  2058.383832              NaN\n",
      "3      Afghanistan  2016  2057.062164              NaN\n",
      "4      Afghanistan  2015  2068.265904              NaN\n",
      "5      Afghanistan  2014  2102.385234              NaN\n",
      "6      Afghanistan  2013  2116.465454              NaN\n",
      "7      Afghanistan  2012  2075.491747              NaN\n",
      "8      Afghanistan  2011  1904.559799              NaN\n",
      "9      Afghanistan  2010  1957.029338              NaN\n",
      "10     Afghanistan  2009  1758.904043              NaN\n",
      "     Country or Area  Year        Value  Value Footnotes\n",
      "6863        Zimbabwe  1994  3263.934978              NaN\n",
      "6864        Zimbabwe  1993  3033.504852              NaN\n",
      "6865        Zimbabwe  1992  3054.889178              NaN\n",
      "6866        Zimbabwe  1991  3426.598094              NaN\n",
      "6867        Zimbabwe  1990  3324.348171              NaN\n"
     ]
    }
   ],
   "source": [
    "gdp_df = pd.read_csv(\"../../data/UNdata_Export_GDP.csv\", skipfooter=3, engine='python')\n",
    "\n",
    "print(gdp_df[:11])\n",
    "print(gdp_df[-5:])"
   ]
  },
  {
   "cell_type": "markdown",
   "id": "2add037d",
   "metadata": {},
   "source": [
    "#### Removes Value footnotes column and gives shape of resulting data set"
   ]
  },
  {
   "cell_type": "code",
   "execution_count": 3,
   "id": "1259e43b",
   "metadata": {},
   "outputs": [
    {
     "data": {
      "text/plain": [
       "(6868, 3)"
      ]
     },
     "execution_count": 3,
     "metadata": {},
     "output_type": "execute_result"
    }
   ],
   "source": [
    "gdp_df = gdp_df.drop(columns='Value Footnotes')\n",
    "gdp_df.columns=['Country', 'Year', 'GDP_Per_Capita']\n",
    "\n",
    "gdp_df.shape"
   ]
  },
  {
   "cell_type": "markdown",
   "id": "4aadb9c5",
   "metadata": {},
   "source": [
    "##### Basic info on DataFrame"
   ]
  },
  {
   "cell_type": "code",
   "execution_count": 4,
   "id": "3be7b860",
   "metadata": {},
   "outputs": [
    {
     "name": "stdout",
     "output_type": "stream",
     "text": [
      "<class 'pandas.core.frame.DataFrame'>\n",
      "RangeIndex: 6868 entries, 0 to 6867\n",
      "Data columns (total 3 columns):\n",
      " #   Column          Non-Null Count  Dtype  \n",
      "---  ------          --------------  -----  \n",
      " 0   Country         6868 non-null   object \n",
      " 1   Year            6868 non-null   int64  \n",
      " 2   GDP_Per_Capita  6868 non-null   float64\n",
      "dtypes: float64(1), int64(1), object(1)\n",
      "memory usage: 161.1+ KB\n"
     ]
    }
   ],
   "source": [
    "gdp_df.info()"
   ]
  },
  {
   "cell_type": "markdown",
   "id": "acc40678",
   "metadata": {},
   "source": [
    "##### Count of countries with available data by year"
   ]
  },
  {
   "cell_type": "code",
   "execution_count": 5,
   "id": "1d452770",
   "metadata": {},
   "outputs": [
    {
     "data": {
      "text/plain": [
       "2013    238\n",
       "2014    238\n",
       "2016    238\n",
       "2015    238\n",
       "2017    238\n",
       "2012    237\n",
       "2018    237\n",
       "2011    237\n",
       "2009    236\n",
       "2010    236\n",
       "2007    235\n",
       "2008    235\n",
       "2006    235\n",
       "2004    234\n",
       "2005    234\n",
       "2002    233\n",
       "2003    233\n",
       "2001    232\n",
       "2019    231\n",
       "2000    231\n",
       "1999    224\n",
       "1998    223\n",
       "1997    223\n",
       "1996    221\n",
       "1995    221\n",
       "1994    214\n",
       "1993    212\n",
       "1992    209\n",
       "1991    208\n",
       "1990    207\n",
       "Name: Year, dtype: int64"
      ]
     },
     "execution_count": 5,
     "metadata": {},
     "output_type": "execute_result"
    }
   ],
   "source": [
    "gdp_df[\"Year\"].value_counts()"
   ]
  },
  {
   "cell_type": "markdown",
   "id": "675ecdf2",
   "metadata": {},
   "source": [
    "##### Count of number of times a country is listed"
   ]
  },
  {
   "cell_type": "code",
   "execution_count": 6,
   "id": "626fbd49",
   "metadata": {},
   "outputs": [
    {
     "data": {
      "text/plain": [
       "High income                  30\n",
       "Guinea                       30\n",
       "Turkey                       30\n",
       "Tonga                        30\n",
       "Myanmar                      30\n",
       "                             ..\n",
       "Nauru                        16\n",
       "Cayman Islands               13\n",
       "Sint Maarten (Dutch part)    10\n",
       "Turks and Caicos Islands      9\n",
       "Djibouti                      7\n",
       "Name: Country, Length: 238, dtype: int64"
      ]
     },
     "execution_count": 6,
     "metadata": {},
     "output_type": "execute_result"
    }
   ],
   "source": [
    "gdp_df['Country'].value_counts()"
   ]
  },
  {
   "cell_type": "markdown",
   "id": "cb766589",
   "metadata": {},
   "source": [
    "#### Subset of data for 2014"
   ]
  },
  {
   "cell_type": "code",
   "execution_count": 7,
   "id": "ed89b06f",
   "metadata": {},
   "outputs": [
    {
     "name": "stdout",
     "output_type": "stream",
     "text": [
      "                  Country  Year  GDP_Per_Capita\n",
      "5             Afghanistan  2014     2102.385234\n",
      "23                Albania  2014    11623.866679\n",
      "53                Algeria  2014    11512.705405\n",
      "83                 Angola  2014     8239.828837\n",
      "113   Antigua and Barbuda  2014    18104.241470\n",
      "...                   ...   ...             ...\n",
      "6727              Vietnam  2014     6098.489609\n",
      "6757   West Bank and Gaza  2014     5967.073437\n",
      "6783                World  2014    15189.648507\n",
      "6813               Zambia  2014     3450.046561\n",
      "6843             Zimbabwe  2014     2955.240287\n",
      "\n",
      "[238 rows x 3 columns]\n"
     ]
    }
   ],
   "source": [
    "gdp_2014 = gdp_df.loc[gdp_df['Year'] == 2014]\n",
    "print(gdp_2014)"
   ]
  },
  {
   "cell_type": "markdown",
   "id": "a2bca055",
   "metadata": {},
   "source": [
    "##### Basic information on GDP Per Capita data"
   ]
  },
  {
   "cell_type": "code",
   "execution_count": 8,
   "id": "dd95bdd3",
   "metadata": {},
   "outputs": [
    {
     "data": {
      "text/plain": [
       "count       238.000000\n",
       "mean      19766.710348\n",
       "std       20983.869623\n",
       "min         822.610458\n",
       "25%        4753.110934\n",
       "50%       12209.385755\n",
       "75%       26803.610474\n",
       "max      156514.133850\n",
       "Name: GDP_Per_Capita, dtype: float64"
      ]
     },
     "execution_count": 8,
     "metadata": {},
     "output_type": "execute_result"
    }
   ],
   "source": [
    "gdp_2014[\"GDP_Per_Capita\"].describe()"
   ]
  },
  {
   "cell_type": "markdown",
   "id": "c04905df",
   "metadata": {},
   "source": [
    "#### Histogram of GDP Per Capita numbers for 2014"
   ]
  },
  {
   "cell_type": "code",
   "execution_count": 9,
   "id": "73b0ec81",
   "metadata": {},
   "outputs": [
    {
     "data": {
      "text/plain": [
       "array([[<AxesSubplot:title={'center':'GDP_Per_Capita'}>]], dtype=object)"
      ]
     },
     "execution_count": 9,
     "metadata": {},
     "output_type": "execute_result"
    },
    {
     "data": {
      "image/png": "[encoded data removed]",
      "text/plain": [
       "<Figure size 432x288 with 1 Axes>"
      ]
     },
     "metadata": {
      "needs_background": "light"
     },
     "output_type": "display_data"
    }
   ],
   "source": [
    "gdp_2014.hist(column=\"GDP_Per_Capita\", bins=8)"
   ]
  },
  {
   "cell_type": "markdown",
   "id": "181173c6",
   "metadata": {},
   "source": [
    "##### Top 5 countries with Highest GDP Per Capita"
   ]
  },
  {
   "cell_type": "code",
   "execution_count": 10,
   "id": "c6d5319d",
   "metadata": {},
   "outputs": [
    {
     "data": {
      "text/html": [
       "<div>\n",
       "<style scoped>\n",
       "    .dataframe tbody tr th:only-of-type {\n",
       "        vertical-align: middle;\n",
       "    }\n",
       "\n",
       "    .dataframe tbody tr th {\n",
       "        vertical-align: top;\n",
       "    }\n",
       "\n",
       "    .dataframe thead th {\n",
       "        text-align: right;\n",
       "    }\n",
       "</style>\n",
       "<table border=\"1\" class=\"dataframe\">\n",
       "  <thead>\n",
       "    <tr style=\"text-align: right;\">\n",
       "      <th></th>\n",
       "      <th>Country</th>\n",
       "      <th>Year</th>\n",
       "      <th>GDP_Per_Capita</th>\n",
       "    </tr>\n",
       "  </thead>\n",
       "  <tbody>\n",
       "    <tr>\n",
       "      <th>113</th>\n",
       "      <td>Antigua and Barbuda</td>\n",
       "      <td>2014</td>\n",
       "      <td>18104.241470</td>\n",
       "    </tr>\n",
       "    <tr>\n",
       "      <th>143</th>\n",
       "      <td>Arab World</td>\n",
       "      <td>2014</td>\n",
       "      <td>14219.562395</td>\n",
       "    </tr>\n",
       "    <tr>\n",
       "      <th>23</th>\n",
       "      <td>Albania</td>\n",
       "      <td>2014</td>\n",
       "      <td>11623.866679</td>\n",
       "    </tr>\n",
       "    <tr>\n",
       "      <th>53</th>\n",
       "      <td>Algeria</td>\n",
       "      <td>2014</td>\n",
       "      <td>11512.705405</td>\n",
       "    </tr>\n",
       "    <tr>\n",
       "      <th>83</th>\n",
       "      <td>Angola</td>\n",
       "      <td>2014</td>\n",
       "      <td>8239.828837</td>\n",
       "    </tr>\n",
       "    <tr>\n",
       "      <th>5</th>\n",
       "      <td>Afghanistan</td>\n",
       "      <td>2014</td>\n",
       "      <td>2102.385234</td>\n",
       "    </tr>\n",
       "  </tbody>\n",
       "</table>\n",
       "</div>"
      ],
      "text/plain": [
       "                 Country  Year  GDP_Per_Capita\n",
       "113  Antigua and Barbuda  2014    18104.241470\n",
       "143           Arab World  2014    14219.562395\n",
       "23               Albania  2014    11623.866679\n",
       "53               Algeria  2014    11512.705405\n",
       "83                Angola  2014     8239.828837\n",
       "5            Afghanistan  2014     2102.385234"
      ]
     },
     "execution_count": 10,
     "metadata": {},
     "output_type": "execute_result"
    }
   ],
   "source": [
    "gdp_2014[:6].sort_values(\"GDP_Per_Capita\", ascending=False)"
   ]
  },
  {
   "cell_type": "markdown",
   "id": "439b299b",
   "metadata": {},
   "source": [
    "##### Top 5 countries with lowest GDP Per Capita"
   ]
  },
  {
   "cell_type": "code",
   "execution_count": 11,
   "id": "73acd81c",
   "metadata": {},
   "outputs": [
    {
     "data": {
      "text/html": [
       "<div>\n",
       "<style scoped>\n",
       "    .dataframe tbody tr th:only-of-type {\n",
       "        vertical-align: middle;\n",
       "    }\n",
       "\n",
       "    .dataframe tbody tr th {\n",
       "        vertical-align: top;\n",
       "    }\n",
       "\n",
       "    .dataframe thead th {\n",
       "        text-align: right;\n",
       "    }\n",
       "</style>\n",
       "<table border=\"1\" class=\"dataframe\">\n",
       "  <thead>\n",
       "    <tr style=\"text-align: right;\">\n",
       "      <th></th>\n",
       "      <th>Country</th>\n",
       "      <th>Year</th>\n",
       "      <th>GDP_Per_Capita</th>\n",
       "    </tr>\n",
       "  </thead>\n",
       "  <tbody>\n",
       "    <tr>\n",
       "      <th>5</th>\n",
       "      <td>Afghanistan</td>\n",
       "      <td>2014</td>\n",
       "      <td>2102.385234</td>\n",
       "    </tr>\n",
       "    <tr>\n",
       "      <th>83</th>\n",
       "      <td>Angola</td>\n",
       "      <td>2014</td>\n",
       "      <td>8239.828837</td>\n",
       "    </tr>\n",
       "    <tr>\n",
       "      <th>53</th>\n",
       "      <td>Algeria</td>\n",
       "      <td>2014</td>\n",
       "      <td>11512.705405</td>\n",
       "    </tr>\n",
       "    <tr>\n",
       "      <th>23</th>\n",
       "      <td>Albania</td>\n",
       "      <td>2014</td>\n",
       "      <td>11623.866679</td>\n",
       "    </tr>\n",
       "    <tr>\n",
       "      <th>143</th>\n",
       "      <td>Arab World</td>\n",
       "      <td>2014</td>\n",
       "      <td>14219.562395</td>\n",
       "    </tr>\n",
       "    <tr>\n",
       "      <th>113</th>\n",
       "      <td>Antigua and Barbuda</td>\n",
       "      <td>2014</td>\n",
       "      <td>18104.241470</td>\n",
       "    </tr>\n",
       "  </tbody>\n",
       "</table>\n",
       "</div>"
      ],
      "text/plain": [
       "                 Country  Year  GDP_Per_Capita\n",
       "5            Afghanistan  2014     2102.385234\n",
       "83                Angola  2014     8239.828837\n",
       "53               Algeria  2014    11512.705405\n",
       "23               Albania  2014    11623.866679\n",
       "143           Arab World  2014    14219.562395\n",
       "113  Antigua and Barbuda  2014    18104.241470"
      ]
     },
     "execution_count": 11,
     "metadata": {},
     "output_type": "execute_result"
    }
   ],
   "source": [
    "gdp_2014[:6].sort_values(\"GDP_Per_Capita\", ascending=True)"
   ]
  },
  {
   "cell_type": "markdown",
   "id": "ce44a4d4",
   "metadata": {},
   "source": [
    "#### Pivot table  containing GDP Per Capita data for years 1990 & 2017"
   ]
  },
  {
   "cell_type": "code",
   "execution_count": 12,
   "id": "af90158e",
   "metadata": {},
   "outputs": [
    {
     "data": {
      "text/html": [
       "<div>\n",
       "<style scoped>\n",
       "    .dataframe tbody tr th:only-of-type {\n",
       "        vertical-align: middle;\n",
       "    }\n",
       "\n",
       "    .dataframe tbody tr th {\n",
       "        vertical-align: top;\n",
       "    }\n",
       "\n",
       "    .dataframe thead th {\n",
       "        text-align: right;\n",
       "    }\n",
       "</style>\n",
       "<table border=\"1\" class=\"dataframe\">\n",
       "  <thead>\n",
       "    <tr style=\"text-align: right;\">\n",
       "      <th>Year</th>\n",
       "      <th>1990</th>\n",
       "      <th>2017</th>\n",
       "    </tr>\n",
       "    <tr>\n",
       "      <th>Country</th>\n",
       "      <th></th>\n",
       "      <th></th>\n",
       "    </tr>\n",
       "  </thead>\n",
       "  <tbody>\n",
       "    <tr>\n",
       "      <th>Albania</th>\n",
       "      <td>4842.734635</td>\n",
       "      <td>12811.759436</td>\n",
       "    </tr>\n",
       "    <tr>\n",
       "      <th>Algeria</th>\n",
       "      <td>8746.352901</td>\n",
       "      <td>11737.409353</td>\n",
       "    </tr>\n",
       "    <tr>\n",
       "      <th>Angola</th>\n",
       "      <td>5783.429064</td>\n",
       "      <td>7310.901738</td>\n",
       "    </tr>\n",
       "    <tr>\n",
       "      <th>Antigua and Barbuda</th>\n",
       "      <td>15459.551675</td>\n",
       "      <td>19840.076123</td>\n",
       "    </tr>\n",
       "    <tr>\n",
       "      <th>Arab World</th>\n",
       "      <td>9694.667544</td>\n",
       "      <td>14555.474921</td>\n",
       "    </tr>\n",
       "    <tr>\n",
       "      <th>...</th>\n",
       "      <td>...</td>\n",
       "      <td>...</td>\n",
       "    </tr>\n",
       "    <tr>\n",
       "      <th>Vanuatu</th>\n",
       "      <td>2888.309393</td>\n",
       "      <td>3116.645194</td>\n",
       "    </tr>\n",
       "    <tr>\n",
       "      <th>Vietnam</th>\n",
       "      <td>1673.249634</td>\n",
       "      <td>7155.745829</td>\n",
       "    </tr>\n",
       "    <tr>\n",
       "      <th>World</th>\n",
       "      <td>9680.269697</td>\n",
       "      <td>16253.385518</td>\n",
       "    </tr>\n",
       "    <tr>\n",
       "      <th>Zambia</th>\n",
       "      <td>2190.182814</td>\n",
       "      <td>3485.005238</td>\n",
       "    </tr>\n",
       "    <tr>\n",
       "      <th>Zimbabwe</th>\n",
       "      <td>3324.348171</td>\n",
       "      <td>3028.245976</td>\n",
       "    </tr>\n",
       "  </tbody>\n",
       "</table>\n",
       "<p>207 rows × 2 columns</p>\n",
       "</div>"
      ],
      "text/plain": [
       "Year                         1990          2017\n",
       "Country                                        \n",
       "Albania               4842.734635  12811.759436\n",
       "Algeria               8746.352901  11737.409353\n",
       "Angola                5783.429064   7310.901738\n",
       "Antigua and Barbuda  15459.551675  19840.076123\n",
       "Arab World            9694.667544  14555.474921\n",
       "...                           ...           ...\n",
       "Vanuatu               2888.309393   3116.645194\n",
       "Vietnam               1673.249634   7155.745829\n",
       "World                 9680.269697  16253.385518\n",
       "Zambia                2190.182814   3485.005238\n",
       "Zimbabwe              3324.348171   3028.245976\n",
       "\n",
       "[207 rows x 2 columns]"
      ]
     },
     "execution_count": 12,
     "metadata": {},
     "output_type": "execute_result"
    }
   ],
   "source": [
    "gdp_pivoted = gdp_df[gdp_df[\"Year\"].isin([1990, 2017])].pivot_table(values=\"GDP_Per_Capita\", \n",
    "                                                                index=\"Country\", \n",
    "                                                                columns=\"Year\")\n",
    "#drops any row where there are missing values\n",
    "gdp_pivoted = gdp_pivoted.dropna()                                                   \n",
    "gdp_pivoted"
   ]
  },
  {
   "cell_type": "markdown",
   "id": "b76a50c3",
   "metadata": {},
   "source": [
    "##### Adds column calculating % change"
   ]
  },
  {
   "cell_type": "code",
   "execution_count": 13,
   "id": "141ccaaf",
   "metadata": {},
   "outputs": [],
   "source": [
    "gdp_pivoted[\"Percent_Change\"] = (gdp_pivoted[2017] - gdp_pivoted[1990]) / gdp_pivoted[1990] * 100\n"
   ]
  },
  {
   "cell_type": "markdown",
   "id": "5a09cb54",
   "metadata": {},
   "source": [
    "##### Calculates number of countries with negative % change"
   ]
  },
  {
   "cell_type": "code",
   "execution_count": 14,
   "id": "57ed4458",
   "metadata": {},
   "outputs": [
    {
     "data": {
      "text/plain": [
       "17"
      ]
     },
     "execution_count": 14,
     "metadata": {},
     "output_type": "execute_result"
    }
   ],
   "source": [
    "sum(gdp_pivoted[\"Percent_Change\"]<0)\n"
   ]
  },
  {
   "cell_type": "markdown",
   "id": "3d767e73",
   "metadata": {},
   "source": [
    "#### Plots top two countries with highest % change in GDP per Capita"
   ]
  },
  {
   "cell_type": "code",
   "execution_count": 15,
   "id": "79c9e575",
   "metadata": {},
   "outputs": [
    {
     "data": {
      "image/png": "[encoded data removed]",
      "text/plain": [
       "<Figure size 432x288 with 1 Axes>"
      ]
     },
     "metadata": {
      "needs_background": "light"
     },
     "output_type": "display_data"
    }
   ],
   "source": [
    "#Plot of the countries with the top two greatest change in GDP_per_capita\n",
    "gdp_eguinea = gdp_df[gdp_df[\"Country\"].\n",
    "                     isin([\"Equatorial Guinea\"])].pivot_table(values=\"GDP_Per_Capita\", \n",
    "                                                                index=\"Year\", \n",
    "                                                                columns=\"Country\")\n",
    "gdp_china = gdp_df[gdp_df[\"Country\"].\n",
    "                   isin([\"China\"])].pivot_table(values=\"GDP_Per_Capita\", \n",
    "                                                                index=\"Year\", \n",
    "                                                                columns=\"Country\")\n",
    "\n",
    "plt.plot(gdp_eguinea)\n",
    "plt.plot(gdp_china)\n",
    "plt.legend([\"Equitorial Guinea\", \"China\"])\n",
    "plt.xlabel(\"Year\")\n",
    "plt.ylabel(\"GDP Per Capita\")\n",
    "plt.show()"
   ]
  },
  {
   "cell_type": "code",
   "execution_count": 16,
   "id": "26b62ef9",
   "metadata": {},
   "outputs": [],
   "source": [
    "continents = pd.read_csv(\"../../data/continents.csv\", engine='python')\n",
    "\n",
    "gdp_df = pd.merge(gdp_df, continents, on=\"Country\")"
   ]
  },
  {
   "cell_type": "markdown",
   "id": "66144f05",
   "metadata": {},
   "source": [
    "#### Histogram of number of countries in each continent by data present"
   ]
  },
  {
   "cell_type": "code",
   "execution_count": 17,
   "id": "4f3b9c70",
   "metadata": {},
   "outputs": [
    {
     "data": {
      "image/png": "[encoded data removed]",
      "text/plain": [
       "<Figure size 432x288 with 1 Axes>"
      ]
     },
     "metadata": {
      "needs_background": "light"
     },
     "output_type": "display_data"
    }
   ],
   "source": [
    "gdp_df['Continent'].value_counts().plot(kind='bar')\n",
    "plt.show()\n"
   ]
  },
  {
   "cell_type": "markdown",
   "id": "61087abe",
   "metadata": {},
   "source": [
    "#### HIstogram of number of countries in each continent counted in a year "
   ]
  },
  {
   "cell_type": "code",
   "execution_count": 18,
   "id": "bf0bb318",
   "metadata": {
    "scrolled": true
   },
   "outputs": [
    {
     "data": {
      "image/png": "[encoded data removed]",
      "text/plain": [
       "<Figure size 432x288 with 1 Axes>"
      ]
     },
     "metadata": {
      "needs_background": "light"
     },
     "output_type": "display_data"
    }
   ],
   "source": [
    "gdp_2014 = gdp_df[gdp_df['Year'] == 2014]\n",
    "gdp_2014['Continent'].value_counts().plot(kind='bar')\n",
    "plt.show()"
   ]
  },
  {
   "cell_type": "markdown",
   "id": "db9533d4",
   "metadata": {},
   "source": [
    "#### Boxplot showing GDP per capita in 2014 split by continent"
   ]
  },
  {
   "cell_type": "code",
   "execution_count": 19,
   "id": "5e9fd030",
   "metadata": {},
   "outputs": [
    {
     "data": {
      "text/plain": [
       "<AxesSubplot:xlabel='Continent', ylabel='GDP_Per_Capita'>"
      ]
     },
     "execution_count": 19,
     "metadata": {},
     "output_type": "execute_result"
    },
    {
     "data": {
      "image/png": "[encoded data removed]",
      "text/plain": [
       "<Figure size 432x288 with 1 Axes>"
      ]
     },
     "metadata": {
      "needs_background": "light"
     },
     "output_type": "display_data"
    }
   ],
   "source": [
    "sns.boxplot(x=gdp_2014[\"Continent\"], y=gdp_2014[\"GDP_Per_Capita\"])"
   ]
  },
  {
   "cell_type": "markdown",
   "id": "ddb93673",
   "metadata": {},
   "source": [
    "### Import of internet_use.cvs"
   ]
  },
  {
   "cell_type": "code",
   "execution_count": 20,
   "id": "3415ec8a",
   "metadata": {},
   "outputs": [
    {
     "name": "stdout",
     "output_type": "stream",
     "text": [
      "<class 'pandas.core.frame.DataFrame'>\n",
      "RangeIndex: 4495 entries, 0 to 4494\n",
      "Data columns (total 3 columns):\n",
      " #   Column              Non-Null Count  Dtype  \n",
      "---  ------              --------------  -----  \n",
      " 0   Country             4495 non-null   object \n",
      " 1   Year                4495 non-null   int64  \n",
      " 2   Internet_Users_Pct  4495 non-null   float64\n",
      "dtypes: float64(1), int64(1), object(1)\n",
      "memory usage: 105.5+ KB\n"
     ]
    },
    {
     "data": {
      "text/html": [
       "<div>\n",
       "<style scoped>\n",
       "    .dataframe tbody tr th:only-of-type {\n",
       "        vertical-align: middle;\n",
       "    }\n",
       "\n",
       "    .dataframe tbody tr th {\n",
       "        vertical-align: top;\n",
       "    }\n",
       "\n",
       "    .dataframe thead th {\n",
       "        text-align: right;\n",
       "    }\n",
       "</style>\n",
       "<table border=\"1\" class=\"dataframe\">\n",
       "  <thead>\n",
       "    <tr style=\"text-align: right;\">\n",
       "      <th></th>\n",
       "      <th>Country</th>\n",
       "      <th>Year</th>\n",
       "      <th>Internet_Users_Pct</th>\n",
       "    </tr>\n",
       "  </thead>\n",
       "  <tbody>\n",
       "    <tr>\n",
       "      <th>0</th>\n",
       "      <td>Afghanistan</td>\n",
       "      <td>2014</td>\n",
       "      <td>6.390000</td>\n",
       "    </tr>\n",
       "    <tr>\n",
       "      <th>1</th>\n",
       "      <td>Afghanistan</td>\n",
       "      <td>2013</td>\n",
       "      <td>5.900000</td>\n",
       "    </tr>\n",
       "    <tr>\n",
       "      <th>2</th>\n",
       "      <td>Afghanistan</td>\n",
       "      <td>2012</td>\n",
       "      <td>5.454545</td>\n",
       "    </tr>\n",
       "    <tr>\n",
       "      <th>3</th>\n",
       "      <td>Afghanistan</td>\n",
       "      <td>2011</td>\n",
       "      <td>5.000000</td>\n",
       "    </tr>\n",
       "    <tr>\n",
       "      <th>4</th>\n",
       "      <td>Afghanistan</td>\n",
       "      <td>2010</td>\n",
       "      <td>4.000000</td>\n",
       "    </tr>\n",
       "    <tr>\n",
       "      <th>...</th>\n",
       "      <td>...</td>\n",
       "      <td>...</td>\n",
       "      <td>...</td>\n",
       "    </tr>\n",
       "    <tr>\n",
       "      <th>4490</th>\n",
       "      <td>Zimbabwe</td>\n",
       "      <td>1997</td>\n",
       "      <td>0.033080</td>\n",
       "    </tr>\n",
       "    <tr>\n",
       "      <th>4491</th>\n",
       "      <td>Zimbabwe</td>\n",
       "      <td>1996</td>\n",
       "      <td>0.016790</td>\n",
       "    </tr>\n",
       "    <tr>\n",
       "      <th>4492</th>\n",
       "      <td>Zimbabwe</td>\n",
       "      <td>1995</td>\n",
       "      <td>0.007684</td>\n",
       "    </tr>\n",
       "    <tr>\n",
       "      <th>4493</th>\n",
       "      <td>Zimbabwe</td>\n",
       "      <td>1994</td>\n",
       "      <td>0.001739</td>\n",
       "    </tr>\n",
       "    <tr>\n",
       "      <th>4494</th>\n",
       "      <td>Zimbabwe</td>\n",
       "      <td>1990</td>\n",
       "      <td>0.000000</td>\n",
       "    </tr>\n",
       "  </tbody>\n",
       "</table>\n",
       "<p>4495 rows × 3 columns</p>\n",
       "</div>"
      ],
      "text/plain": [
       "          Country  Year  Internet_Users_Pct\n",
       "0     Afghanistan  2014            6.390000\n",
       "1     Afghanistan  2013            5.900000\n",
       "2     Afghanistan  2012            5.454545\n",
       "3     Afghanistan  2011            5.000000\n",
       "4     Afghanistan  2010            4.000000\n",
       "...           ...   ...                 ...\n",
       "4490     Zimbabwe  1997            0.033080\n",
       "4491     Zimbabwe  1996            0.016790\n",
       "4492     Zimbabwe  1995            0.007684\n",
       "4493     Zimbabwe  1994            0.001739\n",
       "4494     Zimbabwe  1990            0.000000\n",
       "\n",
       "[4495 rows x 3 columns]"
      ]
     },
     "execution_count": 20,
     "metadata": {},
     "output_type": "execute_result"
    }
   ],
   "source": [
    "internet_df = pd.read_csv(\"../../data/UNdata_Export_Internet.csv\", nrows=4496, engine='python')\n",
    "internet_df = internet_df.drop(columns='Value Footnotes')\n",
    "internet_df.columns=['Country', 'Year', 'Internet_Users_Pct']\n",
    "\n",
    "internet_df.shape\n",
    "internet_df.info()\n",
    "internet_df"
   ]
  },
  {
   "cell_type": "markdown",
   "id": "8f259ebe",
   "metadata": {},
   "source": [
    "#### Fixing countries name discrepencies "
   ]
  },
  {
   "cell_type": "code",
   "execution_count": 21,
   "id": "dfa4c096",
   "metadata": {},
   "outputs": [],
   "source": [
    "\n",
    "replace_country_labels = ({\"Brunei Darussalam\": \"Brunei\", \n",
    "                           \"Central African Rep.\":\"Central African Republic\", \n",
    "                           \"Congo (Democratic Republic of the)\":\"Dem. Rep. Congo\", \n",
    "                           \"Dominican Rep.\":\"Dominican Republic\", \n",
    "                           \"Hong Kong, China\":\"Hong Kong SAR, China\", \n",
    "                           \"Iran (Islamic Rep. of)\":\"Iran\", \n",
    "                           \"Korea (Rep. of)\":\"Korea\", \n",
    "                           \"Kyrgyzstan\":\"Kyrgyz Republic\", \n",
    "                           \"Lao P.D.R.\":\"Lao PDR\", \n",
    "                           \"Macao, China\":\"Macao SAR, China\", \n",
    "                           \"Micronesia (Fed. States of)\":\"Micronesia\", \n",
    "                           \"Viet Nam\":\"Vietnam\"})\n",
    "internet_df = internet_df.replace({\"Country\": replace_country_labels})\n"
   ]
  },
  {
   "cell_type": "markdown",
   "id": "d55113a0",
   "metadata": {},
   "source": [
    "#### Shows years there where there is a non-zero amount of internet use"
   ]
  },
  {
   "cell_type": "code",
   "execution_count": 22,
   "id": "7bf3b952",
   "metadata": {},
   "outputs": [
    {
     "data": {
      "text/html": [
       "<div>\n",
       "<style scoped>\n",
       "    .dataframe tbody tr th:only-of-type {\n",
       "        vertical-align: middle;\n",
       "    }\n",
       "\n",
       "    .dataframe tbody tr th {\n",
       "        vertical-align: top;\n",
       "    }\n",
       "\n",
       "    .dataframe thead th {\n",
       "        text-align: right;\n",
       "    }\n",
       "</style>\n",
       "<table border=\"1\" class=\"dataframe\">\n",
       "  <thead>\n",
       "    <tr style=\"text-align: right;\">\n",
       "      <th></th>\n",
       "      <th>Country</th>\n",
       "      <th>Year</th>\n",
       "      <th>Internet_Users_Pct</th>\n",
       "    </tr>\n",
       "  </thead>\n",
       "  <tbody>\n",
       "    <tr>\n",
       "      <th>2048</th>\n",
       "      <td>Italy</td>\n",
       "      <td>1990</td>\n",
       "      <td>0.017545</td>\n",
       "    </tr>\n",
       "    <tr>\n",
       "      <th>1107</th>\n",
       "      <td>Denmark</td>\n",
       "      <td>1990</td>\n",
       "      <td>0.097277</td>\n",
       "    </tr>\n",
       "    <tr>\n",
       "      <th>375</th>\n",
       "      <td>Belgium</td>\n",
       "      <td>1990</td>\n",
       "      <td>0.001007</td>\n",
       "    </tr>\n",
       "    <tr>\n",
       "      <th>1388</th>\n",
       "      <td>Finland</td>\n",
       "      <td>1990</td>\n",
       "      <td>0.401088</td>\n",
       "    </tr>\n",
       "    <tr>\n",
       "      <th>4301</th>\n",
       "      <td>United States</td>\n",
       "      <td>1990</td>\n",
       "      <td>0.784729</td>\n",
       "    </tr>\n",
       "    <tr>\n",
       "      <th>...</th>\n",
       "      <td>...</td>\n",
       "      <td>...</td>\n",
       "      <td>...</td>\n",
       "    </tr>\n",
       "    <tr>\n",
       "      <th>2175</th>\n",
       "      <td>Kiribati</td>\n",
       "      <td>2014</td>\n",
       "      <td>12.250000</td>\n",
       "    </tr>\n",
       "    <tr>\n",
       "      <th>848</th>\n",
       "      <td>Colombia</td>\n",
       "      <td>2014</td>\n",
       "      <td>52.570000</td>\n",
       "    </tr>\n",
       "    <tr>\n",
       "      <th>1299</th>\n",
       "      <td>Ethiopia</td>\n",
       "      <td>2014</td>\n",
       "      <td>2.900000</td>\n",
       "    </tr>\n",
       "    <tr>\n",
       "      <th>623</th>\n",
       "      <td>Burundi</td>\n",
       "      <td>2014</td>\n",
       "      <td>1.380000</td>\n",
       "    </tr>\n",
       "    <tr>\n",
       "      <th>0</th>\n",
       "      <td>Afghanistan</td>\n",
       "      <td>2014</td>\n",
       "      <td>6.390000</td>\n",
       "    </tr>\n",
       "  </tbody>\n",
       "</table>\n",
       "<p>4106 rows × 3 columns</p>\n",
       "</div>"
      ],
      "text/plain": [
       "            Country  Year  Internet_Users_Pct\n",
       "2048          Italy  1990            0.017545\n",
       "1107        Denmark  1990            0.097277\n",
       "375         Belgium  1990            0.001007\n",
       "1388        Finland  1990            0.401088\n",
       "4301  United States  1990            0.784729\n",
       "...             ...   ...                 ...\n",
       "2175       Kiribati  2014           12.250000\n",
       "848        Colombia  2014           52.570000\n",
       "1299       Ethiopia  2014            2.900000\n",
       "623         Burundi  2014            1.380000\n",
       "0       Afghanistan  2014            6.390000\n",
       "\n",
       "[4106 rows x 3 columns]"
      ]
     },
     "execution_count": 22,
     "metadata": {},
     "output_type": "execute_result"
    }
   ],
   "source": [
    "internet_df.loc[internet_df['Internet_Users_Pct'] > 0].sort_values(\"Year\", ascending=True)"
   ]
  },
  {
   "cell_type": "markdown",
   "id": "16934c32",
   "metadata": {},
   "source": [
    "#### Internet use over time"
   ]
  },
  {
   "cell_type": "code",
   "execution_count": 23,
   "id": "f6a66d52",
   "metadata": {
    "scrolled": true
   },
   "outputs": [
    {
     "data": {
      "text/plain": [
       "<AxesSubplot:xlabel='Year'>"
      ]
     },
     "execution_count": 23,
     "metadata": {},
     "output_type": "execute_result"
    },
    {
     "data": {
      "image/png": "[encoded data removed]",
      "text/plain": [
       "<Figure size 432x288 with 1 Axes>"
      ]
     },
     "metadata": {
      "needs_background": "light"
     },
     "output_type": "display_data"
    }
   ],
   "source": [
    "internet_df[internet_df['Internet_Users_Pct'] > 0].pivot_table(values=\"Internet_Users_Pct\", index=[\"Year\"], aggfunc=np.mean).plot()\n"
   ]
  },
  {
   "cell_type": "code",
   "execution_count": 24,
   "id": "d8fd5683",
   "metadata": {},
   "outputs": [],
   "source": [
    "gdp_and_internet_use = pd.merge(gdp_df, internet_df, on=[\"Country\", \"Year\"])"
   ]
  },
  {
   "cell_type": "markdown",
   "id": "be3590d0",
   "metadata": {},
   "source": [
    "### Internet usage in 2014"
   ]
  },
  {
   "cell_type": "code",
   "execution_count": 25,
   "id": "9803993a",
   "metadata": {},
   "outputs": [],
   "source": [
    "gdp_and_internet_use_2014 = gdp_and_internet_use.loc[gdp_and_internet_use['Year'] == 2014]\n"
   ]
  },
  {
   "cell_type": "markdown",
   "id": "3e8686e1",
   "metadata": {},
   "source": [
    "#### Filters countries with at least 90% internet use in 2014"
   ]
  },
  {
   "cell_type": "code",
   "execution_count": 26,
   "id": "ea5244c9",
   "metadata": {},
   "outputs": [
    {
     "data": {
      "text/plain": [
       "13"
      ]
     },
     "execution_count": 26,
     "metadata": {},
     "output_type": "execute_result"
    }
   ],
   "source": [
    "sum(gdp_and_internet_use_2014[\"Internet_Users_Pct\"] >= 90)"
   ]
  },
  {
   "cell_type": "markdown",
   "id": "162f4856",
   "metadata": {},
   "source": [
    "#### Graph of top countries with greatest % internet users in 2014"
   ]
  },
  {
   "cell_type": "code",
   "execution_count": 27,
   "id": "15b01519",
   "metadata": {},
   "outputs": [
    {
     "data": {
      "text/plain": [
       "<seaborn.axisgrid.FacetGrid at 0x1b63e478b80>"
      ]
     },
     "execution_count": 27,
     "metadata": {},
     "output_type": "execute_result"
    },
    {
     "data": {
      "image/png": "[encoded data removed]",
      "text/plain": [
       "<Figure size 648x216 with 3 Axes>"
      ]
     },
     "metadata": {
      "needs_background": "light"
     },
     "output_type": "display_data"
    }
   ],
   "source": [
    "gdp_and_internet_use_2014.sort_values(\"GDP_Per_Capita\", ascending=False)\n",
    "\n",
    "#gdp_and_internet_top_three = \n",
    "gdp_and_internet_top_three = gdp_and_internet_use[gdp_and_internet_use[\"Country\"]\n",
    "                     .isin([\"Macao SAR, China\", \"Luxembourg\", \"Qatar\"])]\n",
    "gdp_and_internet_top_three\n",
    "top_internet_3 = sns.FacetGrid(gdp_and_internet_top_three, col=\"Country\") \n",
    "top_internet_3.map(plt.plot, \"Year\", \"Internet_Users_Pct\")\n"
   ]
  },
  {
   "cell_type": "markdown",
   "id": "7805c717",
   "metadata": {},
   "source": [
    "#### Internet use vs GDP per capita figures in 2014"
   ]
  },
  {
   "cell_type": "code",
   "execution_count": 28,
   "id": "f394f0fe",
   "metadata": {},
   "outputs": [
    {
     "data": {
      "text/plain": [
       "<AxesSubplot:xlabel='GDP_Per_Capita', ylabel='Internet_Users_Pct'>"
      ]
     },
     "execution_count": 28,
     "metadata": {},
     "output_type": "execute_result"
    },
    {
     "data": {
      "image/png": "[encoded data removed]",
      "text/plain": [
       "<Figure size 432x288 with 1 Axes>"
      ]
     },
     "metadata": {
      "needs_background": "light"
     },
     "output_type": "display_data"
    }
   ],
   "source": [
    "gdp_and_internet_use_2014.plot(\"GDP_Per_Capita\", \"Internet_Users_Pct\", kind=\"scatter\")"
   ]
  },
  {
   "cell_type": "markdown",
   "id": "ceffe5d8",
   "metadata": {},
   "source": [
    "#### Correlation of Internet use vs GDP"
   ]
  },
  {
   "cell_type": "code",
   "execution_count": 29,
   "id": "44af20b5",
   "metadata": {},
   "outputs": [
    {
     "data": {
      "text/plain": [
       "array([[1.        , 0.76285229],\n",
       "       [0.76285229, 1.        ]])"
      ]
     },
     "execution_count": 29,
     "metadata": {},
     "output_type": "execute_result"
    }
   ],
   "source": [
    "x = gdp_and_internet_use_2014[\"GDP_Per_Capita\"]\n",
    "y = gdp_and_internet_use_2014[\"Internet_Users_Pct\"]\n",
    "np.corrcoef(x, y)"
   ]
  },
  {
   "cell_type": "markdown",
   "id": "4899fd54",
   "metadata": {},
   "source": [
    "#### Adding column of Log of GDP per capita"
   ]
  },
  {
   "cell_type": "code",
   "execution_count": 30,
   "id": "e5ec91ac",
   "metadata": {
    "scrolled": false
   },
   "outputs": [
    {
     "name": "stderr",
     "output_type": "stream",
     "text": [
      "<ipython-input-30-dd054c721ccc>:1: SettingWithCopyWarning: \n",
      "A value is trying to be set on a copy of a slice from a DataFrame.\n",
      "Try using .loc[row_indexer,col_indexer] = value instead\n",
      "\n",
      "See the caveats in the documentation: https://pandas.pydata.org/pandas-docs/stable/user_guide/indexing.html#returning-a-view-versus-a-copy\n",
      "  gdp_and_internet_use_2014[\"Log_GDP\"] = np.log(gdp_and_internet_use_2014[\"GDP_Per_Capita\"])\n"
     ]
    },
    {
     "data": {
      "text/html": [
       "<div>\n",
       "<style scoped>\n",
       "    .dataframe tbody tr th:only-of-type {\n",
       "        vertical-align: middle;\n",
       "    }\n",
       "\n",
       "    .dataframe tbody tr th {\n",
       "        vertical-align: top;\n",
       "    }\n",
       "\n",
       "    .dataframe thead th {\n",
       "        text-align: right;\n",
       "    }\n",
       "</style>\n",
       "<table border=\"1\" class=\"dataframe\">\n",
       "  <thead>\n",
       "    <tr style=\"text-align: right;\">\n",
       "      <th></th>\n",
       "      <th>Country</th>\n",
       "      <th>Year</th>\n",
       "      <th>GDP_Per_Capita</th>\n",
       "      <th>Continent</th>\n",
       "      <th>Internet_Users_Pct</th>\n",
       "      <th>Log_GDP</th>\n",
       "    </tr>\n",
       "  </thead>\n",
       "  <tbody>\n",
       "    <tr>\n",
       "      <th>0</th>\n",
       "      <td>Afghanistan</td>\n",
       "      <td>2014</td>\n",
       "      <td>2102.385234</td>\n",
       "      <td>Asia</td>\n",
       "      <td>6.39</td>\n",
       "      <td>7.650828</td>\n",
       "    </tr>\n",
       "    <tr>\n",
       "      <th>13</th>\n",
       "      <td>Albania</td>\n",
       "      <td>2014</td>\n",
       "      <td>11623.866679</td>\n",
       "      <td>Europe</td>\n",
       "      <td>60.10</td>\n",
       "      <td>9.360816</td>\n",
       "    </tr>\n",
       "    <tr>\n",
       "      <th>34</th>\n",
       "      <td>Algeria</td>\n",
       "      <td>2014</td>\n",
       "      <td>11512.705405</td>\n",
       "      <td>Africa</td>\n",
       "      <td>18.09</td>\n",
       "      <td>9.351207</td>\n",
       "    </tr>\n",
       "    <tr>\n",
       "      <th>56</th>\n",
       "      <td>Angola</td>\n",
       "      <td>2014</td>\n",
       "      <td>8239.828837</td>\n",
       "      <td>Africa</td>\n",
       "      <td>21.26</td>\n",
       "      <td>9.016735</td>\n",
       "    </tr>\n",
       "    <tr>\n",
       "      <th>76</th>\n",
       "      <td>Antigua and Barbuda</td>\n",
       "      <td>2014</td>\n",
       "      <td>18104.241470</td>\n",
       "      <td>North America</td>\n",
       "      <td>64.00</td>\n",
       "      <td>9.803902</td>\n",
       "    </tr>\n",
       "    <tr>\n",
       "      <th>...</th>\n",
       "      <td>...</td>\n",
       "      <td>...</td>\n",
       "      <td>...</td>\n",
       "      <td>...</td>\n",
       "      <td>...</td>\n",
       "      <td>...</td>\n",
       "    </tr>\n",
       "    <tr>\n",
       "      <th>3605</th>\n",
       "      <td>Uzbekistan</td>\n",
       "      <td>2014</td>\n",
       "      <td>5764.492705</td>\n",
       "      <td>Asia</td>\n",
       "      <td>43.55</td>\n",
       "      <td>8.659472</td>\n",
       "    </tr>\n",
       "    <tr>\n",
       "      <th>3626</th>\n",
       "      <td>Vanuatu</td>\n",
       "      <td>2014</td>\n",
       "      <td>3116.077025</td>\n",
       "      <td>Oceania</td>\n",
       "      <td>18.80</td>\n",
       "      <td>8.044330</td>\n",
       "    </tr>\n",
       "    <tr>\n",
       "      <th>3646</th>\n",
       "      <td>Vietnam</td>\n",
       "      <td>2014</td>\n",
       "      <td>6098.489609</td>\n",
       "      <td>Asia</td>\n",
       "      <td>48.31</td>\n",
       "      <td>8.715796</td>\n",
       "    </tr>\n",
       "    <tr>\n",
       "      <th>3666</th>\n",
       "      <td>Zambia</td>\n",
       "      <td>2014</td>\n",
       "      <td>3450.046561</td>\n",
       "      <td>Africa</td>\n",
       "      <td>17.34</td>\n",
       "      <td>8.146143</td>\n",
       "    </tr>\n",
       "    <tr>\n",
       "      <th>3688</th>\n",
       "      <td>Zimbabwe</td>\n",
       "      <td>2014</td>\n",
       "      <td>2955.240287</td>\n",
       "      <td>Africa</td>\n",
       "      <td>19.89</td>\n",
       "      <td>7.991335</td>\n",
       "    </tr>\n",
       "  </tbody>\n",
       "</table>\n",
       "<p>175 rows × 6 columns</p>\n",
       "</div>"
      ],
      "text/plain": [
       "                  Country  Year  GDP_Per_Capita      Continent  \\\n",
       "0             Afghanistan  2014     2102.385234           Asia   \n",
       "13                Albania  2014    11623.866679         Europe   \n",
       "34                Algeria  2014    11512.705405         Africa   \n",
       "56                 Angola  2014     8239.828837         Africa   \n",
       "76    Antigua and Barbuda  2014    18104.241470  North America   \n",
       "...                   ...   ...             ...            ...   \n",
       "3605           Uzbekistan  2014     5764.492705           Asia   \n",
       "3626              Vanuatu  2014     3116.077025        Oceania   \n",
       "3646              Vietnam  2014     6098.489609           Asia   \n",
       "3666               Zambia  2014     3450.046561         Africa   \n",
       "3688             Zimbabwe  2014     2955.240287         Africa   \n",
       "\n",
       "      Internet_Users_Pct   Log_GDP  \n",
       "0                   6.39  7.650828  \n",
       "13                 60.10  9.360816  \n",
       "34                 18.09  9.351207  \n",
       "56                 21.26  9.016735  \n",
       "76                 64.00  9.803902  \n",
       "...                  ...       ...  \n",
       "3605               43.55  8.659472  \n",
       "3626               18.80  8.044330  \n",
       "3646               48.31  8.715796  \n",
       "3666               17.34  8.146143  \n",
       "3688               19.89  7.991335  \n",
       "\n",
       "[175 rows x 6 columns]"
      ]
     },
     "execution_count": 30,
     "metadata": {},
     "output_type": "execute_result"
    }
   ],
   "source": [
    "gdp_and_internet_use_2014[\"Log_GDP\"] = np.log(gdp_and_internet_use_2014[\"GDP_Per_Capita\"])\n",
    "gdp_and_internet_use_2014\n"
   ]
  },
  {
   "cell_type": "markdown",
   "id": "145f81b5",
   "metadata": {},
   "source": [
    "#### Internet use vs GDP per capita with log transformation on GDP"
   ]
  },
  {
   "cell_type": "code",
   "execution_count": 31,
   "id": "d9b1c637",
   "metadata": {},
   "outputs": [
    {
     "data": {
      "text/plain": [
       "<AxesSubplot:xlabel='Log_GDP', ylabel='Internet_Users_Pct'>"
      ]
     },
     "execution_count": 31,
     "metadata": {},
     "output_type": "execute_result"
    },
    {
     "data": {
      "image/png": "[encoded data removed]",
      "text/plain": [
       "<Figure size 432x288 with 1 Axes>"
      ]
     },
     "metadata": {
      "needs_background": "light"
     },
     "output_type": "display_data"
    }
   ],
   "source": [
    "gdp_and_internet_use_2014.plot(\"Log_GDP\", \"Internet_Users_Pct\", kind=\"scatter\")"
   ]
  },
  {
   "cell_type": "markdown",
   "id": "e3fc780f",
   "metadata": {},
   "source": [
    "#### Correlation with the log transformation on GDP"
   ]
  },
  {
   "cell_type": "code",
   "execution_count": 32,
   "id": "7db3581d",
   "metadata": {},
   "outputs": [
    {
     "data": {
      "text/plain": [
       "array([[1.       , 0.8985838],\n",
       "       [0.8985838, 1.       ]])"
      ]
     },
     "execution_count": 32,
     "metadata": {},
     "output_type": "execute_result"
    }
   ],
   "source": [
    "np.corrcoef(gdp_and_internet_use_2014['Log_GDP'], gdp_and_internet_use_2014['Internet_Users_Pct'])"
   ]
  }
 ],
 "metadata": {
  "kernelspec": {
   "display_name": "Python 3",
   "language": "python",
   "name": "python3"
  },
  "language_info": {
   "codemirror_mode": {
    "name": "ipython",
    "version": 3
   },
   "file_extension": ".py",
   "mimetype": "text/x-python",
   "name": "python",
   "nbconvert_exporter": "python",
   "pygments_lexer": "ipython3",
   "version": "3.8.8"
  }
 },
 "nbformat": 4,
 "nbformat_minor": 5
}
